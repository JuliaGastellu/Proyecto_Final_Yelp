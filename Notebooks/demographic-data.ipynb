{
 "cells": [
  {
   "cell_type": "markdown",
   "metadata": {},
   "source": [
    "<center><font size=\"5\">Extracción de Datos del Censo de los Estados Unidos (API)</font></center>\n",
    "\n",
    "Introducción:  \n",
    "Este script de Python extrae datos demográficos de la API del Censo de los Estados Unidos para los estados de Florida, Pensilvania y Tennessee. La información recopilada incluye la población total por año.\n"
   ]
  },
  {
   "cell_type": "code",
   "execution_count": 14,
   "metadata": {},
   "outputs": [],
   "source": [
    "import pandas as pd\n",
    "import numpy as np\n",
    "import matplotlib.pyplot as plt\n",
    "import requests\n",
    "import warnings\n",
    "\n",
    "\n",
    "warnings.filterwarnings('ignore')\n",
    "pd.set_option('display.max_columns', None)"
   ]
  },
  {
   "cell_type": "code",
   "execution_count": 15,
   "metadata": {},
   "outputs": [],
   "source": [
    "census_api_key= \"17f4105acff4d5b11a1e0c696bc21e9952b0f5da\"\n",
    "variable = 'B01001_001E'\n",
    "year = '2020'"
   ]
  },
  {
   "cell_type": "code",
   "execution_count": 16,
   "metadata": {},
   "outputs": [
    {
     "data": {
      "text/plain": [
       "200"
      ]
     },
     "execution_count": 16,
     "metadata": {},
     "output_type": "execute_result"
    }
   ],
   "source": [
    "# Datos nacionales\n",
    "\n",
    "url = 'https://api.census.gov/data/{0}/acs/acs5?get=NAME,{1}&for=us:*&key={2}'\\\n",
    "  .format(year, variable, census_api_key)\n",
    "# request\n",
    "response = requests.request(\"GET\", url)\n",
    "# status code\n",
    "response.status_code"
   ]
  },
  {
   "cell_type": "code",
   "execution_count": 17,
   "metadata": {},
   "outputs": [
    {
     "data": {
      "text/plain": [
       "'[[\"NAME\",\"B01001_001E\",\"us\"],\\n[\"United States\",\"326569308\",\"1\"]]'"
      ]
     },
     "execution_count": 17,
     "metadata": {},
     "output_type": "execute_result"
    }
   ],
   "source": [
    "# verificacion de datos\n",
    "response.text"
   ]
  },
  {
   "cell_type": "code",
   "execution_count": 18,
   "metadata": {},
   "outputs": [
    {
     "data": {
      "text/plain": [
       "[['NAME', 'B01001_001E', 'us'], ['United States', '326569308', '1']]"
      ]
     },
     "execution_count": 18,
     "metadata": {},
     "output_type": "execute_result"
    }
   ],
   "source": [
    "# transformamos a objeto json\n",
    "response.json() "
   ]
  },
  {
   "cell_type": "markdown",
   "metadata": {},
   "source": [
    "National Region\n"
   ]
  },
  {
   "cell_type": "code",
   "execution_count": 19,
   "metadata": {},
   "outputs": [
    {
     "data": {
      "text/html": [
       "<div>\n",
       "<style scoped>\n",
       "    .dataframe tbody tr th:only-of-type {\n",
       "        vertical-align: middle;\n",
       "    }\n",
       "\n",
       "    .dataframe tbody tr th {\n",
       "        vertical-align: top;\n",
       "    }\n",
       "\n",
       "    .dataframe thead th {\n",
       "        text-align: right;\n",
       "    }\n",
       "</style>\n",
       "<table border=\"1\" class=\"dataframe\">\n",
       "  <thead>\n",
       "    <tr style=\"text-align: right;\">\n",
       "      <th></th>\n",
       "      <th>NAME</th>\n",
       "      <th>B01001_001E</th>\n",
       "      <th>us</th>\n",
       "    </tr>\n",
       "  </thead>\n",
       "  <tbody>\n",
       "    <tr>\n",
       "      <th>0</th>\n",
       "      <td>United States</td>\n",
       "      <td>326569308</td>\n",
       "      <td>1</td>\n",
       "    </tr>\n",
       "  </tbody>\n",
       "</table>\n",
       "</div>"
      ],
      "text/plain": [
       "            NAME B01001_001E us\n",
       "0  United States   326569308  1"
      ]
     },
     "execution_count": 19,
     "metadata": {},
     "output_type": "execute_result"
    }
   ],
   "source": [
    "# convertimos a dataframe\n",
    "df_national = pd.DataFrame(response.json()[1:], columns=response.json()[0])\n",
    "df_national"
   ]
  },
  {
   "cell_type": "code",
   "execution_count": 20,
   "metadata": {},
   "outputs": [
    {
     "data": {
      "text/html": [
       "<div>\n",
       "<style scoped>\n",
       "    .dataframe tbody tr th:only-of-type {\n",
       "        vertical-align: middle;\n",
       "    }\n",
       "\n",
       "    .dataframe tbody tr th {\n",
       "        vertical-align: top;\n",
       "    }\n",
       "\n",
       "    .dataframe thead th {\n",
       "        text-align: right;\n",
       "    }\n",
       "</style>\n",
       "<table border=\"1\" class=\"dataframe\">\n",
       "  <thead>\n",
       "    <tr style=\"text-align: right;\">\n",
       "      <th></th>\n",
       "      <th>NAME</th>\n",
       "      <th>total_population</th>\n",
       "      <th>us</th>\n",
       "    </tr>\n",
       "  </thead>\n",
       "  <tbody>\n",
       "    <tr>\n",
       "      <th>0</th>\n",
       "      <td>United States</td>\n",
       "      <td>326569308</td>\n",
       "      <td>1</td>\n",
       "    </tr>\n",
       "  </tbody>\n",
       "</table>\n",
       "</div>"
      ],
      "text/plain": [
       "            NAME total_population us\n",
       "0  United States        326569308  1"
      ]
     },
     "execution_count": 20,
     "metadata": {},
     "output_type": "execute_result"
    }
   ],
   "source": [
    "# renombramos columnas\n",
    "df_national = df_national.rename(columns={'B01001_001E': 'total_population'})\n",
    "df_national"
   ]
  },
  {
   "cell_type": "code",
   "execution_count": 21,
   "metadata": {},
   "outputs": [
    {
     "data": {
      "text/plain": [
       "200"
      ]
     },
     "execution_count": 21,
     "metadata": {},
     "output_type": "execute_result"
    }
   ],
   "source": [
    "# Obtenemos datos por estado\n",
    "url = 'https://api.census.gov/data/{0}/acs/acs5?get=NAME,{1}&for=state:*&key={2}'\\\n",
    "  .format(year, variable, census_api_key)\n",
    "response = requests.request(\"GET\", url)\n",
    "response.status_code"
   ]
  },
  {
   "cell_type": "markdown",
   "metadata": {},
   "source": [
    "State Region\n"
   ]
  },
  {
   "cell_type": "code",
   "execution_count": 22,
   "metadata": {},
   "outputs": [
    {
     "name": "stdout",
     "output_type": "stream",
     "text": [
      "Num of rows: 52\n"
     ]
    },
    {
     "data": {
      "text/html": [
       "<div>\n",
       "<style scoped>\n",
       "    .dataframe tbody tr th:only-of-type {\n",
       "        vertical-align: middle;\n",
       "    }\n",
       "\n",
       "    .dataframe tbody tr th {\n",
       "        vertical-align: top;\n",
       "    }\n",
       "\n",
       "    .dataframe thead th {\n",
       "        text-align: right;\n",
       "    }\n",
       "</style>\n",
       "<table border=\"1\" class=\"dataframe\">\n",
       "  <thead>\n",
       "    <tr style=\"text-align: right;\">\n",
       "      <th></th>\n",
       "      <th>NAME</th>\n",
       "      <th>total_population</th>\n",
       "      <th>state</th>\n",
       "    </tr>\n",
       "  </thead>\n",
       "  <tbody>\n",
       "    <tr>\n",
       "      <th>0</th>\n",
       "      <td>Pennsylvania</td>\n",
       "      <td>12794885</td>\n",
       "      <td>42</td>\n",
       "    </tr>\n",
       "    <tr>\n",
       "      <th>1</th>\n",
       "      <td>California</td>\n",
       "      <td>39346023</td>\n",
       "      <td>06</td>\n",
       "    </tr>\n",
       "    <tr>\n",
       "      <th>2</th>\n",
       "      <td>West Virginia</td>\n",
       "      <td>1807426</td>\n",
       "      <td>54</td>\n",
       "    </tr>\n",
       "    <tr>\n",
       "      <th>3</th>\n",
       "      <td>Utah</td>\n",
       "      <td>3151239</td>\n",
       "      <td>49</td>\n",
       "    </tr>\n",
       "    <tr>\n",
       "      <th>4</th>\n",
       "      <td>New York</td>\n",
       "      <td>19514849</td>\n",
       "      <td>36</td>\n",
       "    </tr>\n",
       "  </tbody>\n",
       "</table>\n",
       "</div>"
      ],
      "text/plain": [
       "            NAME total_population state\n",
       "0   Pennsylvania         12794885    42\n",
       "1     California         39346023    06\n",
       "2  West Virginia          1807426    54\n",
       "3           Utah          3151239    49\n",
       "4       New York         19514849    36"
      ]
     },
     "execution_count": 22,
     "metadata": {},
     "output_type": "execute_result"
    }
   ],
   "source": [
    "# Obteneos datos de población\n",
    "df_state = pd.DataFrame(response.json()[1:], columns=response.json()[0])\\\n",
    "  .rename(columns={'B01001_001E': 'total_population'})\n",
    "print('Num of rows:', len(df_state))\n",
    "df_state.head()"
   ]
  },
  {
   "cell_type": "markdown",
   "metadata": {},
   "source": [
    "Seccion #2 - Loops 🏙\n",
    "Obtener datos para múltiples años para una región dada\n"
   ]
  },
  {
   "cell_type": "code",
   "execution_count": 23,
   "metadata": {},
   "outputs": [],
   "source": [
    "# lista de años de Census Bureau API\n",
    "year_list = ['2015', '2016', '2017', '2018', '2019', '2020']"
   ]
  },
  {
   "cell_type": "markdown",
   "metadata": {},
   "source": [
    "Census API\n"
   ]
  },
  {
   "cell_type": "code",
   "execution_count": 24,
   "metadata": {},
   "outputs": [
    {
     "name": "stdout",
     "output_type": "stream",
     "text": [
      "Num of rows: 312\n"
     ]
    },
    {
     "data": {
      "text/html": [
       "<div>\n",
       "<style scoped>\n",
       "    .dataframe tbody tr th:only-of-type {\n",
       "        vertical-align: middle;\n",
       "    }\n",
       "\n",
       "    .dataframe tbody tr th {\n",
       "        vertical-align: top;\n",
       "    }\n",
       "\n",
       "    .dataframe thead th {\n",
       "        text-align: right;\n",
       "    }\n",
       "</style>\n",
       "<table border=\"1\" class=\"dataframe\">\n",
       "  <thead>\n",
       "    <tr style=\"text-align: right;\">\n",
       "      <th></th>\n",
       "      <th>NAME</th>\n",
       "      <th>total_population</th>\n",
       "      <th>state</th>\n",
       "      <th>year</th>\n",
       "    </tr>\n",
       "  </thead>\n",
       "  <tbody>\n",
       "    <tr>\n",
       "      <th>0</th>\n",
       "      <td>Mississippi</td>\n",
       "      <td>2988081</td>\n",
       "      <td>28</td>\n",
       "      <td>2015</td>\n",
       "    </tr>\n",
       "    <tr>\n",
       "      <th>1</th>\n",
       "      <td>Missouri</td>\n",
       "      <td>6045448</td>\n",
       "      <td>29</td>\n",
       "      <td>2015</td>\n",
       "    </tr>\n",
       "    <tr>\n",
       "      <th>2</th>\n",
       "      <td>Montana</td>\n",
       "      <td>1014699</td>\n",
       "      <td>30</td>\n",
       "      <td>2015</td>\n",
       "    </tr>\n",
       "    <tr>\n",
       "      <th>3</th>\n",
       "      <td>Nebraska</td>\n",
       "      <td>1869365</td>\n",
       "      <td>31</td>\n",
       "      <td>2015</td>\n",
       "    </tr>\n",
       "    <tr>\n",
       "      <th>4</th>\n",
       "      <td>Nevada</td>\n",
       "      <td>2798636</td>\n",
       "      <td>32</td>\n",
       "      <td>2015</td>\n",
       "    </tr>\n",
       "  </tbody>\n",
       "</table>\n",
       "</div>"
      ],
      "text/plain": [
       "          NAME  total_population state  year\n",
       "0  Mississippi           2988081    28  2015\n",
       "1     Missouri           6045448    29  2015\n",
       "2      Montana           1014699    30  2015\n",
       "3     Nebraska           1869365    31  2015\n",
       "4       Nevada           2798636    32  2015"
      ]
     },
     "execution_count": 24,
     "metadata": {},
     "output_type": "execute_result"
    }
   ],
   "source": [
    "# Iteramos a través de los años de la lista\n",
    "df_list = []\n",
    "for year in year_list:\n",
    "  # Total de población por estado\n",
    "  url = 'https://api.census.gov/data/{0}/acs/acs5?get=NAME,{1}&for=state:*&key={2}'\\\n",
    "    .format(year, variable, census_api_key)\n",
    "  response = requests.request(\"GET\", url)\n",
    "  _df = pd.DataFrame(response.json()[1:], columns=response.json()[0])\n",
    "  _df['year'] = year\n",
    "  df_list.append(_df)\n",
    "\n",
    "# Combinar en un solo df\n",
    "df_census = pd.concat(df_list)\\\n",
    "  .rename(columns={'B01001_001E': 'total_population'})\n",
    "df_census['total_population'] = df_census['total_population'].astype(int)\n",
    "print('Num of rows:', len(df_census))\n",
    "df_census.head()"
   ]
  },
  {
   "cell_type": "code",
   "execution_count": 25,
   "metadata": {},
   "outputs": [
    {
     "data": {
      "text/html": [
       "<div>\n",
       "<style scoped>\n",
       "    .dataframe tbody tr th:only-of-type {\n",
       "        vertical-align: middle;\n",
       "    }\n",
       "\n",
       "    .dataframe tbody tr th {\n",
       "        vertical-align: top;\n",
       "    }\n",
       "\n",
       "    .dataframe thead th {\n",
       "        text-align: right;\n",
       "    }\n",
       "</style>\n",
       "<table border=\"1\" class=\"dataframe\">\n",
       "  <thead>\n",
       "    <tr style=\"text-align: right;\">\n",
       "      <th></th>\n",
       "      <th>NAME</th>\n",
       "      <th>total_population</th>\n",
       "      <th>state</th>\n",
       "      <th>year</th>\n",
       "    </tr>\n",
       "  </thead>\n",
       "  <tbody>\n",
       "    <tr>\n",
       "      <th>37</th>\n",
       "      <td>Florida</td>\n",
       "      <td>19645772</td>\n",
       "      <td>12</td>\n",
       "      <td>2015</td>\n",
       "    </tr>\n",
       "    <tr>\n",
       "      <th>37</th>\n",
       "      <td>Florida</td>\n",
       "      <td>19934451</td>\n",
       "      <td>12</td>\n",
       "      <td>2016</td>\n",
       "    </tr>\n",
       "    <tr>\n",
       "      <th>36</th>\n",
       "      <td>Florida</td>\n",
       "      <td>20278447</td>\n",
       "      <td>12</td>\n",
       "      <td>2017</td>\n",
       "    </tr>\n",
       "    <tr>\n",
       "      <th>37</th>\n",
       "      <td>Florida</td>\n",
       "      <td>20598139</td>\n",
       "      <td>12</td>\n",
       "      <td>2018</td>\n",
       "    </tr>\n",
       "    <tr>\n",
       "      <th>9</th>\n",
       "      <td>Florida</td>\n",
       "      <td>20901636</td>\n",
       "      <td>12</td>\n",
       "      <td>2019</td>\n",
       "    </tr>\n",
       "    <tr>\n",
       "      <th>7</th>\n",
       "      <td>Florida</td>\n",
       "      <td>21216924</td>\n",
       "      <td>12</td>\n",
       "      <td>2020</td>\n",
       "    </tr>\n",
       "  </tbody>\n",
       "</table>\n",
       "</div>"
      ],
      "text/plain": [
       "       NAME  total_population state  year\n",
       "37  Florida          19645772    12  2015\n",
       "37  Florida          19934451    12  2016\n",
       "36  Florida          20278447    12  2017\n",
       "37  Florida          20598139    12  2018\n",
       "9   Florida          20901636    12  2019\n",
       "7   Florida          21216924    12  2020"
      ]
     },
     "execution_count": 25,
     "metadata": {},
     "output_type": "execute_result"
    }
   ],
   "source": [
    "# Filtramos por Florida\n",
    "Florida = 'Florida'\n",
    "df_census_florida = df_census.loc[df_census['NAME'] == Florida]\n",
    "df_census_florida"
   ]
  },
  {
   "cell_type": "code",
   "execution_count": 26,
   "metadata": {},
   "outputs": [
    {
     "name": "stdout",
     "output_type": "stream",
     "text": [
      "NAME                object\n",
      "total_population     int32\n",
      "state               object\n",
      "year                object\n",
      "dtype: object\n"
     ]
    }
   ],
   "source": [
    "df_census_florida = df_census_florida.dropna()\n",
    "\n",
    "# Verificar los tipos de datos\n",
    "print(df_census_florida.dtypes)"
   ]
  },
  {
   "cell_type": "code",
   "execution_count": 27,
   "metadata": {},
   "outputs": [
    {
     "data": {
      "image/png": "[encoded data removed]",
      "text/plain": [
       "<Figure size 1000x600 with 1 Axes>"
      ]
     },
     "metadata": {},
     "output_type": "display_data"
    }
   ],
   "source": [
    "# Conversión de tipos \n",
    "df_census_florida['total_population'] = pd.to_numeric(df_census_florida['total_population'])\n",
    "df_census_florida['year'] = pd.to_numeric(df_census_florida['year'])\n",
    "\n",
    "# Crear el gráfico de líneas\n",
    "plt.figure(figsize=(10, 6)) \n",
    "plt.plot(df_census_florida['year'], df_census_florida['total_population'], color='green', marker='o')\n",
    "\n",
    "# Personalizar el gráfico\n",
    "plt.title('Población Total por Año en Florida')\n",
    "plt.xlabel('Año')\n",
    "plt.ylabel('Población Total')\n",
    "plt.grid(True)\n",
    "\n",
    "# Limitar el rango de los ejes\n",
    "plt.xlim(2015, 2020)\n",
    "plt.ylim(0, 30000000)\n",
    "\n",
    "plt.show()"
   ]
  },
  {
   "cell_type": "code",
   "execution_count": 28,
   "metadata": {},
   "outputs": [
    {
     "data": {
      "text/html": [
       "<div>\n",
       "<style scoped>\n",
       "    .dataframe tbody tr th:only-of-type {\n",
       "        vertical-align: middle;\n",
       "    }\n",
       "\n",
       "    .dataframe tbody tr th {\n",
       "        vertical-align: top;\n",
       "    }\n",
       "\n",
       "    .dataframe thead th {\n",
       "        text-align: right;\n",
       "    }\n",
       "</style>\n",
       "<table border=\"1\" class=\"dataframe\">\n",
       "  <thead>\n",
       "    <tr style=\"text-align: right;\">\n",
       "      <th></th>\n",
       "      <th>NAME</th>\n",
       "      <th>total_population</th>\n",
       "      <th>state</th>\n",
       "      <th>year</th>\n",
       "    </tr>\n",
       "  </thead>\n",
       "  <tbody>\n",
       "    <tr>\n",
       "      <th>14</th>\n",
       "      <td>Pennsylvania</td>\n",
       "      <td>12779559</td>\n",
       "      <td>42</td>\n",
       "      <td>2015</td>\n",
       "    </tr>\n",
       "    <tr>\n",
       "      <th>14</th>\n",
       "      <td>Pennsylvania</td>\n",
       "      <td>12783977</td>\n",
       "      <td>42</td>\n",
       "      <td>2016</td>\n",
       "    </tr>\n",
       "    <tr>\n",
       "      <th>19</th>\n",
       "      <td>Pennsylvania</td>\n",
       "      <td>12790505</td>\n",
       "      <td>42</td>\n",
       "      <td>2017</td>\n",
       "    </tr>\n",
       "    <tr>\n",
       "      <th>14</th>\n",
       "      <td>Pennsylvania</td>\n",
       "      <td>12791181</td>\n",
       "      <td>42</td>\n",
       "      <td>2018</td>\n",
       "    </tr>\n",
       "    <tr>\n",
       "      <th>38</th>\n",
       "      <td>Pennsylvania</td>\n",
       "      <td>12791530</td>\n",
       "      <td>42</td>\n",
       "      <td>2019</td>\n",
       "    </tr>\n",
       "    <tr>\n",
       "      <th>0</th>\n",
       "      <td>Pennsylvania</td>\n",
       "      <td>12794885</td>\n",
       "      <td>42</td>\n",
       "      <td>2020</td>\n",
       "    </tr>\n",
       "  </tbody>\n",
       "</table>\n",
       "</div>"
      ],
      "text/plain": [
       "            NAME  total_population state  year\n",
       "14  Pennsylvania          12779559    42  2015\n",
       "14  Pennsylvania          12783977    42  2016\n",
       "19  Pennsylvania          12790505    42  2017\n",
       "14  Pennsylvania          12791181    42  2018\n",
       "38  Pennsylvania          12791530    42  2019\n",
       "0   Pennsylvania          12794885    42  2020"
      ]
     },
     "execution_count": 28,
     "metadata": {},
     "output_type": "execute_result"
    }
   ],
   "source": [
    "# Filtramos por Pennsylvania\n",
    "Pennsylvania = 'Pennsylvania'\n",
    "df_census_Pennsylvania = df_census.loc[df_census['NAME'] == Pennsylvania]\n",
    "df_census_Pennsylvania"
   ]
  },
  {
   "cell_type": "code",
   "execution_count": 29,
   "metadata": {},
   "outputs": [
    {
     "name": "stdout",
     "output_type": "stream",
     "text": [
      "NAME                object\n",
      "total_population     int32\n",
      "state               object\n",
      "year                object\n",
      "dtype: object\n"
     ]
    }
   ],
   "source": [
    "df_census_Pennsylvania = df_census_Pennsylvania.dropna()\n",
    "\n",
    "# Verificar los tipos de datos\n",
    "print(df_census_Pennsylvania.dtypes)"
   ]
  },
  {
   "cell_type": "code",
   "execution_count": 30,
   "metadata": {},
   "outputs": [
    {
     "data": {
      "image/png": "[encoded data removed]",
      "text/plain": [
       "<Figure size 1000x600 with 1 Axes>"
      ]
     },
     "metadata": {},
     "output_type": "display_data"
    }
   ],
   "source": [
    "df_census_Pennsylvania['total_population'] = pd.to_numeric(df_census_Pennsylvania['total_population'])\n",
    "df_census_Pennsylvania['year'] = pd.to_numeric(df_census_Pennsylvania['year'])\n",
    "\n",
    "# Crear el gráfico de línea con Matplotlib\n",
    "plt.figure(figsize=(10, 6))  # Ajusta el tamaño de la figura si lo deseas\n",
    "plt.plot(df_census_Pennsylvania['year'], df_census_Pennsylvania['total_population'], color='green', marker='o')\n",
    "\n",
    "# Personalizar el gráfico\n",
    "plt.title('Población Total por Año en Pennsylvania')\n",
    "plt.xlabel('Año')\n",
    "plt.ylabel('Población Total')\n",
    "plt.grid(True)\n",
    "\n",
    "# Limitar el rango de los ejes\n",
    "plt.xlim(2015, 2020)\n",
    "plt.ylim(0, 30000000)\n",
    "\n",
    "plt.show()"
   ]
  },
  {
   "cell_type": "code",
   "execution_count": 31,
   "metadata": {},
   "outputs": [
    {
     "data": {
      "text/html": [
       "<div>\n",
       "<style scoped>\n",
       "    .dataframe tbody tr th:only-of-type {\n",
       "        vertical-align: middle;\n",
       "    }\n",
       "\n",
       "    .dataframe tbody tr th {\n",
       "        vertical-align: top;\n",
       "    }\n",
       "\n",
       "    .dataframe thead th {\n",
       "        text-align: right;\n",
       "    }\n",
       "</style>\n",
       "<table border=\"1\" class=\"dataframe\">\n",
       "  <thead>\n",
       "    <tr style=\"text-align: right;\">\n",
       "      <th></th>\n",
       "      <th>NAME</th>\n",
       "      <th>total_population</th>\n",
       "      <th>state</th>\n",
       "      <th>year</th>\n",
       "    </tr>\n",
       "  </thead>\n",
       "  <tbody>\n",
       "    <tr>\n",
       "      <th>18</th>\n",
       "      <td>Tennessee</td>\n",
       "      <td>6499615</td>\n",
       "      <td>47</td>\n",
       "      <td>2015</td>\n",
       "    </tr>\n",
       "    <tr>\n",
       "      <th>18</th>\n",
       "      <td>Tennessee</td>\n",
       "      <td>6548009</td>\n",
       "      <td>47</td>\n",
       "      <td>2016</td>\n",
       "    </tr>\n",
       "    <tr>\n",
       "      <th>23</th>\n",
       "      <td>Tennessee</td>\n",
       "      <td>6597381</td>\n",
       "      <td>47</td>\n",
       "      <td>2017</td>\n",
       "    </tr>\n",
       "    <tr>\n",
       "      <th>18</th>\n",
       "      <td>Tennessee</td>\n",
       "      <td>6651089</td>\n",
       "      <td>47</td>\n",
       "      <td>2018</td>\n",
       "    </tr>\n",
       "    <tr>\n",
       "      <th>42</th>\n",
       "      <td>Tennessee</td>\n",
       "      <td>6709356</td>\n",
       "      <td>47</td>\n",
       "      <td>2019</td>\n",
       "    </tr>\n",
       "    <tr>\n",
       "      <th>51</th>\n",
       "      <td>Tennessee</td>\n",
       "      <td>6772268</td>\n",
       "      <td>47</td>\n",
       "      <td>2020</td>\n",
       "    </tr>\n",
       "  </tbody>\n",
       "</table>\n",
       "</div>"
      ],
      "text/plain": [
       "         NAME  total_population state  year\n",
       "18  Tennessee           6499615    47  2015\n",
       "18  Tennessee           6548009    47  2016\n",
       "23  Tennessee           6597381    47  2017\n",
       "18  Tennessee           6651089    47  2018\n",
       "42  Tennessee           6709356    47  2019\n",
       "51  Tennessee           6772268    47  2020"
      ]
     },
     "execution_count": 31,
     "metadata": {},
     "output_type": "execute_result"
    }
   ],
   "source": [
    "# Filtramos por Tennessee\n",
    "Tennessee = 'Tennessee'\n",
    "df_census_Tennessee = df_census.loc[df_census['NAME'] == Tennessee]\n",
    "df_census_Tennessee"
   ]
  },
  {
   "cell_type": "code",
   "execution_count": 32,
   "metadata": {},
   "outputs": [
    {
     "name": "stdout",
     "output_type": "stream",
     "text": [
      "NAME                object\n",
      "total_population     int32\n",
      "state               object\n",
      "year                object\n",
      "dtype: object\n"
     ]
    }
   ],
   "source": [
    "df_census_Tennessee = df_census_Tennessee.dropna()\n",
    "\n",
    "# Verificar los tipos de datos\n",
    "print(df_census_Tennessee.dtypes)"
   ]
  },
  {
   "cell_type": "code",
   "execution_count": 33,
   "metadata": {},
   "outputs": [
    {
     "data": {
      "image/png": "[encoded data removed]",
      "text/plain": [
       "<Figure size 1000x600 with 1 Axes>"
      ]
     },
     "metadata": {},
     "output_type": "display_data"
    }
   ],
   "source": [
    "df_census_Tennessee['total_population'] = pd.to_numeric(df_census_Tennessee['total_population'])\n",
    "df_census_Tennessee['year'] = pd.to_numeric(df_census_Tennessee['year'])\n",
    "\n",
    "# Crear el gráfico de línea con Matplotlib\n",
    "plt.figure(figsize=(10, 6))  # Ajusta el tamaño de la figura si lo deseas\n",
    "plt.plot(df_census_Tennessee['year'], df_census_Tennessee['total_population'], color='green', marker='o')\n",
    "\n",
    "# Personalizar el gráfico\n",
    "plt.title('Población Total por Año en Tennessee')\n",
    "plt.xlabel('Año')\n",
    "plt.ylabel('Población Total')\n",
    "plt.grid(True)\n",
    "\n",
    "# Limitar el rango de los ejes\n",
    "plt.xlim(2015, 2020)\n",
    "plt.ylim(0, 30000000)\n",
    "\n",
    "plt.show()"
   ]
  },
  {
   "cell_type": "code",
   "execution_count": 34,
   "metadata": {},
   "outputs": [],
   "source": [
    "df_census_total = pd.concat([df_census_Pennsylvania, df_census_Tennessee, df_census_florida], axis=0)"
   ]
  },
  {
   "cell_type": "code",
   "execution_count": 35,
   "metadata": {},
   "outputs": [
    {
     "data": {
      "text/html": [
       "<div>\n",
       "<style scoped>\n",
       "    .dataframe tbody tr th:only-of-type {\n",
       "        vertical-align: middle;\n",
       "    }\n",
       "\n",
       "    .dataframe tbody tr th {\n",
       "        vertical-align: top;\n",
       "    }\n",
       "\n",
       "    .dataframe thead th {\n",
       "        text-align: right;\n",
       "    }\n",
       "</style>\n",
       "<table border=\"1\" class=\"dataframe\">\n",
       "  <thead>\n",
       "    <tr style=\"text-align: right;\">\n",
       "      <th></th>\n",
       "      <th>NAME</th>\n",
       "      <th>total_population</th>\n",
       "      <th>state</th>\n",
       "      <th>year</th>\n",
       "    </tr>\n",
       "  </thead>\n",
       "  <tbody>\n",
       "    <tr>\n",
       "      <th>14</th>\n",
       "      <td>Pennsylvania</td>\n",
       "      <td>12779559</td>\n",
       "      <td>42</td>\n",
       "      <td>2015</td>\n",
       "    </tr>\n",
       "    <tr>\n",
       "      <th>14</th>\n",
       "      <td>Pennsylvania</td>\n",
       "      <td>12783977</td>\n",
       "      <td>42</td>\n",
       "      <td>2016</td>\n",
       "    </tr>\n",
       "    <tr>\n",
       "      <th>19</th>\n",
       "      <td>Pennsylvania</td>\n",
       "      <td>12790505</td>\n",
       "      <td>42</td>\n",
       "      <td>2017</td>\n",
       "    </tr>\n",
       "    <tr>\n",
       "      <th>14</th>\n",
       "      <td>Pennsylvania</td>\n",
       "      <td>12791181</td>\n",
       "      <td>42</td>\n",
       "      <td>2018</td>\n",
       "    </tr>\n",
       "    <tr>\n",
       "      <th>38</th>\n",
       "      <td>Pennsylvania</td>\n",
       "      <td>12791530</td>\n",
       "      <td>42</td>\n",
       "      <td>2019</td>\n",
       "    </tr>\n",
       "  </tbody>\n",
       "</table>\n",
       "</div>"
      ],
      "text/plain": [
       "            NAME  total_population state  year\n",
       "14  Pennsylvania          12779559    42  2015\n",
       "14  Pennsylvania          12783977    42  2016\n",
       "19  Pennsylvania          12790505    42  2017\n",
       "14  Pennsylvania          12791181    42  2018\n",
       "38  Pennsylvania          12791530    42  2019"
      ]
     },
     "execution_count": 35,
     "metadata": {},
     "output_type": "execute_result"
    }
   ],
   "source": [
    "df_census_total.head()"
   ]
  },
  {
   "cell_type": "code",
   "execution_count": 36,
   "metadata": {},
   "outputs": [],
   "source": [
    "#df_census_total.to_parquet('census_data.parquet', index=False)"
   ]
  }
 ],
 "metadata": {
  "kernelspec": {
   "display_name": "Python 3",
   "language": "python",
   "name": "python3"
  },
  "language_info": {
   "codemirror_mode": {
    "name": "ipython",
    "version": 3
   },
   "file_extension": ".py",
   "mimetype": "text/x-python",
   "name": "python",
   "nbconvert_exporter": "python",
   "pygments_lexer": "ipython3",
   "version": "3.12.2"
  }
 },
 "nbformat": 4,
 "nbformat_minor": 2
}
